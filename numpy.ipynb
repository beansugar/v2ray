{
  "cells": [
    {
      "cell_type": "markdown",
      "metadata": {
        "id": "view-in-github",
        "colab_type": "text"
      },
      "source": [
        "<a href=\"https://colab.research.google.com/github/beansugar/v2ray/blob/main/numpy.ipynb\" target=\"_parent\"><img src=\"https://colab.research.google.com/assets/colab-badge.svg\" alt=\"Open In Colab\"/></a>"
      ]
    },
    {
      "cell_type": "code",
      "execution_count": null,
      "metadata": {
        "id": "YguGxW39_G5r"
      },
      "outputs": [],
      "source": [
        "import numpy as np\n",
        "a=np.array([1,2,4,5])#列表转换\n",
        "print(a)\n",
        "print(a.size)#side 取得数量"
      ]
    },
    {
      "cell_type": "markdown",
      "metadata": {
        "id": "vD7XKqxlFXCR"
      },
      "source": [
        "多维阵列"
      ]
    },
    {
      "cell_type": "code",
      "execution_count": null,
      "metadata": {
        "id": "55QfC0feFb5-"
      },
      "outputs": [],
      "source": [
        "import numpy as np\n",
        "data=np.array([[2,2],\n",
        "               [2,3]])#2*2的阵列\n",
        "print(data)\n",
        "data=np.empty([2,4,5])#2*4*5的阵列\n",
        "print(data)\n",
        "data=np.ones([2,4,5])#阵列内容全是1\n",
        "print(data)\n",
        "data=np.arange(10)#内容0到9\n",
        "print(data)"
      ]
    },
    {
      "cell_type": "markdown",
      "metadata": {
        "id": "whNg6fqDkOG8"
      },
      "source": [
        "逐元运算"
      ]
    },
    {
      "cell_type": "code",
      "execution_count": null,
      "metadata": {
        "colab": {
          "background_save": true
        },
        "id": "lm4ed8TpkVnY"
      },
      "outputs": [],
      "source": [
        "import numpy as np\n",
        "data1=np.array([1,10,15])\n",
        "data2=np.array([2,5,10])\n",
        "result=data1+data2  #加法运算\n",
        "print(\"加法\",result)\n",
        "result=data1-data2  #减法运算\n",
        "print(\"减法:\",result)\n",
        "#除了加减乘除还可以做比较\n",
        "result=data1<data2\n",
        "print(\"小于:\",result"
      ]
    },
    {
      "cell_type": "markdown",
      "source": [
        "矩阵运算"
      ],
      "metadata": {
        "id": "jqlypN_bphLi"
      }
    },
    {
      "cell_type": "code",
      "source": [
        "import numpy as np\n",
        "data1=np.array([[1,3,5]])#1*3\n",
        "data2=np.array([[2,5,4],\n",
        "                [3,5,5],\n",
        "                [3,4,6]])#3*3\n",
        "#result=data1@data2 #内积\n",
        "result=data1.dot(data2)\n",
        "print(result)\n",
        "result=np.outer(data1,data2)#外积\n",
        "print(result)"
      ],
      "metadata": {
        "id": "Cq4-o9oLpkMH"
      },
      "execution_count": null,
      "outputs": []
    },
    {
      "cell_type": "markdown",
      "source": [
        "统计运算"
      ],
      "metadata": {
        "id": "KI8bbYuktS9V"
      }
    },
    {
      "cell_type": "code",
      "source": [
        "import numpy as np\n",
        "data=np.array([[1,5],\n",
        "              [2,5],\n",
        "              [1,7],\n",
        "              [5,9]])#4*2矩阵\n",
        "result=data.sum()\n",
        "print(result)#求和\n",
        "result=data.min(axis=0)#针对行最小值\n",
        "print(result)\n",
        "result=data.mean(axis=1)#针对列平均值\n",
        "print(result)\n",
        "result=data.std()#标准差\n",
        "print(result)\n",
        "result=data.cumsum(axis=1)#针对行逐行累加\n",
        "print(result)"
      ],
      "metadata": {
        "id": "0sVy1X_PtaHO"
      },
      "execution_count": null,
      "outputs": []
    },
    {
      "cell_type": "markdown",
      "source": [
        "axis=1针对行\n",
        "axis=0针对列"
      ],
      "metadata": {
        "id": "6m_BuoBfw8F8"
      }
    },
    {
      "cell_type": "code",
      "source": [
        "import numpy as np \n",
        "data=np.array([[10,4],\n",
        "               [6,5],\n",
        "               [1,3]])\n",
        "print(data.shape)#阵列形状\n",
        "print(data.T) #资料转置\n",
        "data1=data.ravel()#资料的扁平化\n",
        "print(data1)\n",
        "data2=data.reshape(2,3)#资料重塑形状\n",
        "print(data2)\n",
        "new=np.ones(15).reshape(3,5)\n",
        "n\n",
        "print(new1)"
      ],
      "metadata": {
        "id": "PyFmwaGlWwBS"
      },
      "execution_count": null,
      "outputs": []
    },
    {
      "cell_type": "code",
      "source": [
        "\n",
        "#练习\n",
        "import numpy as np\n",
        "data1=np.arange(10).reshape(2,5)\n",
        "data2=np.ones(10).reshape(2,5)\n",
        "result=data1+data2\n",
        "print(result)\n",
        "new=result*data1\n",
        "print(new)"
      ],
      "metadata": {
        "colab": {
          "base_uri": "https://localhost:8080/"
        },
        "id": "KzuiJlmTZ8OF",
        "outputId": "661bf776-66a7-4d71-de6d-dd2f4ae70203"
      },
      "execution_count": null,
      "outputs": [
        {
          "output_type": "stream",
          "name": "stdout",
          "text": [
            "[[ 1.  2.  3.  4.  5.]\n",
            " [ 6.  7.  8.  9. 10.]]\n",
            "[[ 0.  2.  6. 12. 20.]\n",
            " [30. 42. 56. 72. 90.]]\n"
          ]
        }
      ]
    }
  ],
  "metadata": {
    "colab": {
      "name": "numpy.ipynb",
      "provenance": [],
      "collapsed_sections": [],
      "authorship_tag": "ABX9TyMJ1OmFX4RS8AIFmeIueST6",
      "include_colab_link": true
    },
    "kernelspec": {
      "display_name": "Python 3",
      "name": "python3"
    },
    "language_info": {
      "name": "python"
    }
  },
  "nbformat": 4,
  "nbformat_minor": 0
}